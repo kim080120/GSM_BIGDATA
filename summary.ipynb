{
 "cells": [
  {
   "cell_type": "markdown",
   "id": "029ec83f",
   "metadata": {},
   "source": [
    "# 악성 URL 분류 AI 모델 요약 및 서비스 구축\n",
    "\n",
    "이 노트북은 데이터 전처리, AI 모델 학습, 성능 평가, 모델 저장, Flask를 활용한 로컬 예측 서비스까지 전체 과정을 담고 있습니다. 각 단계별로 왜 해당 방법이 합당한지 설명도 포함되어 있습니다."
   ]
  },
  {
   "cell_type": "markdown",
   "id": "ee8eaa12",
   "metadata": {},
   "source": [
    "## 1. 데이터 준비 및 전처리\n",
    "- 이미 전처리된 데이터(malicious_phish_data_step3.csv)를 사용합니다.\n",
    "- 다양한 Feature(특징)를 활용하여 악성/정상 URL을 분류합니다."
   ]
  },
  {
   "cell_type": "code",
   "execution_count": null,
   "id": "09ae3fe3",
   "metadata": {},
   "outputs": [
    {
     "name": "stdout",
     "output_type": "stream",
     "text": [
      "Train shape: (7396, 14) Test shape: (1849, 14)\n"
     ]
    }
   ],
   "source": [
    "import pandas as pd\n",
    "from sklearn.model_selection import train_test_split\n",
    "\n",
    "df = pd.read_csv(r'C:\\Users\\kim08\\Desktop\\GSM_BIGDATA\\GSM_BIGDATA\\malicious_phish_data_step3.csv')\n",
    "X = df.drop(columns=['type'])\n",
    "y = df['type']\n",
    "\n",
    "X_train, X_test, y_train, y_test = train_test_split(X, y, test_size=0.2, random_state=77)\n",
    "print('Train shape:', X_train.shape, 'Test shape:', X_test.shape)"
   ]
  },
  {
   "cell_type": "markdown",
   "id": "c0397ea6",
   "metadata": {},
   "source": [
    "## 2. AI 모델 학습 및 평가\n",
    "- 여러 모델 중 XGBoost를 최종 선택했습니다.\n",
    "- 이유: Random Forest, Decision Tree 등과 비교해 성능(정확도, F1 Score)이 가장 높았고, 대용량 데이터와 복잡한 Feature 조합에서 강점을 보였습니다."
   ]
  },
  {
   "cell_type": "code",
   "execution_count": 2,
   "id": "aaf48699",
   "metadata": {},
   "outputs": [
    {
     "name": "stdout",
     "output_type": "stream",
     "text": [
      "Requirement already satisfied: xgboost in c:\\users\\kim08\\anaconda3\\envs\\myenv\\lib\\site-packages (3.0.2)\n",
      "Requirement already satisfied: numpy in c:\\users\\kim08\\anaconda3\\envs\\myenv\\lib\\site-packages (from xgboost) (1.26.4)\n",
      "Requirement already satisfied: scipy in c:\\users\\kim08\\anaconda3\\envs\\myenv\\lib\\site-packages (from xgboost) (1.15.2)\n"
     ]
    }
   ],
   "source": [
    "!pip install xgboost"
   ]
  },
  {
   "cell_type": "code",
   "execution_count": 3,
   "id": "8f32d7b3",
   "metadata": {},
   "outputs": [
    {
     "name": "stderr",
     "output_type": "stream",
     "text": [
      "c:\\Users\\kim08\\anaconda3\\envs\\myenv\\lib\\site-packages\\xgboost\\training.py:183: UserWarning: [01:19:02] WARNING: C:\\actions-runner\\_work\\xgboost\\xgboost\\src\\learner.cc:738: \n",
      "Parameters: { \"use_label_encoder\" } are not used.\n",
      "\n",
      "  bst.update(dtrain, iteration=i, fobj=obj)\n"
     ]
    },
    {
     "name": "stdout",
     "output_type": "stream",
     "text": [
      "정확도: 0.9626825310978907\n",
      "F1 Score: 0.9620643658800787\n",
      "              precision    recall  f1-score   support\n",
      "\n",
      "           0       0.96      0.99      0.98      1370\n",
      "           1       0.97      0.88      0.92       479\n",
      "\n",
      "    accuracy                           0.96      1849\n",
      "   macro avg       0.97      0.94      0.95      1849\n",
      "weighted avg       0.96      0.96      0.96      1849\n",
      "\n"
     ]
    }
   ],
   "source": [
    "from xgboost import XGBClassifier\n",
    "from sklearn.metrics import classification_report, confusion_matrix, accuracy_score, f1_score\n",
    "\n",
    "xgb_model = XGBClassifier(\n",
    "    n_estimators=300,\n",
    "    max_depth=8,\n",
    "    learning_rate=0.1,\n",
    "    subsample=0.8,\n",
    "    colsample_bytree=0.8,\n",
    "    random_state=77,\n",
    "    eval_metric='logloss',\n",
    "    use_label_encoder=False\n",
    ")\n",
    "\n",
    "xgb_model.fit(X_train, y_train)\n",
    "y_pred = xgb_model.predict(X_test)\n",
    "\n",
    "print('정확도:', accuracy_score(y_test, y_pred))\n",
    "print('F1 Score:', f1_score(y_test, y_pred, average='weighted'))\n",
    "print(classification_report(y_test, y_pred))"
   ]
  },
  {
   "cell_type": "markdown",
   "id": "5fa11ebe",
   "metadata": {},
   "source": [
    "### 모델 선택 근거\n",
    "- Decision Tree: 해석은 쉽지만 예측력이 낮음\n",
    "- Random Forest: 과적합에 강하고 안정적이지만, XGBoost가 더 높은 성능을 보임\n",
    "- XGBoost: 실제 실험에서 가장 높은 정확도와 F1 Score를 보여 최종 선택"
   ]
  },
  {
   "cell_type": "markdown",
   "id": "4d2e24ab",
   "metadata": {},
   "source": [
    "## 3. 모델 저장 (pkl 파일)\n",
    "- 학습된 모델을 joblib을 이용해 저장합니다."
   ]
  },
  {
   "cell_type": "code",
   "execution_count": 4,
   "id": "4c444ef4",
   "metadata": {},
   "outputs": [
    {
     "name": "stdout",
     "output_type": "stream",
     "text": [
      "모델이 xgb_model.pkl로 저장되었습니다.\n"
     ]
    }
   ],
   "source": [
    "import joblib\n",
    "joblib.dump(xgb_model, 'xgb_model.pkl')\n",
    "print('모델이 xgb_model.pkl로 저장되었습니다.')"
   ]
  },
  {
   "cell_type": "markdown",
   "id": "308f5996",
   "metadata": {},
   "source": [
    "## 4. Flask를 활용한 로컬 예측 서비스\n",
    "- 저장된 모델(pkl 파일)을 불러와서 REST API 형태로 예측 서비스를 제공합니다.\n",
    "- 아래 코드를 app.py로 저장 후, 같은 폴더에서 실행하면 됩니다."
   ]
  },
  {
   "cell_type": "code",
   "execution_count": null,
   "id": "5be52dba",
   "metadata": {},
   "outputs": [],
   "source": [
    "\n",
    "flask_code = \"\"\"from flask import Flask, request, jsonify\n",
    "import joblib\n",
    "import numpy as np\n",
    "\n",
    "app = Flask(__name__)\n",
    "model = joblib.load('xgb_model.pkl')\n",
    "\n",
    "@app.route('/predict', methods=['POST'])\n",
    "def predict():\n",
    "    data = request.get_json(force=True)\n",
    "    features = np.array([list(data.values())])\n",
    "    prediction = model.predict(features)[0]\n",
    "    return jsonify({'prediction': int(prediction)})\n",
    "\n",
    "if __name__ == '__main__':\n",
    "    app.run(host='0.0.0.0', port=5000, debug=True)\n",
    "\"\"\"\n",
    "\n",
    "with open('app.py', 'w') as f:\n",
    "    f.write(flask_code)\n",
    "print(\"Flask 예측 서버 파일(app.py)이 생성되었습니다.\")"
   ]
  },
  {
   "cell_type": "markdown",
   "id": "84977e47",
   "metadata": {},
   "source": [
    "### 예측 API 사용 예시 (Python)\n",
    "```python\n",
    "import requests\n",
    "url = 'http://localhost:5000/predict'\n",
    "data = {\n",
    "    'len_url': 58,\n",
    "    'len_sub_domain': 12,\n",
    "    'len_root_domain': 8,\n",
    "    'len_suffix': 3,\n",
    "    'is_private': 0,\n",
    "    'count_special_char': 5,\n",
    "    'num_port': 0,\n",
    "    'len_query': 0,\n",
    "    'count_sub_domain': 2,\n",
    "    'is_filter': 0,\n",
    "    'ratio_alpha_numeric': 0.85,\n",
    "    'count_url_dots': 3,\n",
    "    'value_entropy_url': 3.5,\n",
    "    'count_file_path': 0\n",
    "}\n",
    "response = requests.post(url, json=data)\n",
    "print(response.json())\n",
    "```"
   ]
  }
 ],
 "metadata": {
  "kernelspec": {
   "display_name": "myenv",
   "language": "python",
   "name": "python3"
  },
  "language_info": {
   "codemirror_mode": {
    "name": "ipython",
    "version": 3
   },
   "file_extension": ".py",
   "mimetype": "text/x-python",
   "name": "python",
   "nbconvert_exporter": "python",
   "pygments_lexer": "ipython3",
   "version": "3.10.13"
  }
 },
 "nbformat": 4,
 "nbformat_minor": 5
}
